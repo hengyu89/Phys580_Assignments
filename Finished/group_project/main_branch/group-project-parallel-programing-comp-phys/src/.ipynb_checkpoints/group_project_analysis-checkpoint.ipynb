{
 "cells": [
  {
   "cell_type": "code",
   "execution_count": null,
   "metadata": {},
   "outputs": [],
   "source": [
    "import numpy as np\n",
    "import matplotlib.pyplot as plt\n",
    "import f90nml\n",
    "from mpl_toolkits.mplot3d.art3d import Poly3DCollection\n",
    "from mpl_toolkits.mplot3d import axes3d"
   ]
  },
  {
   "cell_type": "code",
   "execution_count": null,
   "metadata": {},
   "outputs": [],
   "source": [
    "#Read namelist file and assign parameters\n",
    "parameters = f90nml.read('box_parameters.namelist')\n",
    "file_name = parameters['output']['output_file']\n",
    "L_x, L_y = parameters['box']['length']\n",
    "rho_0 = parameters['charge_distribution']['rho_zero']\n",
    "x_0, y_0 = parameters['charge_distribution']['center']\n",
    "R_x, R_y = parameters['charge_distribution']['width']\n",
    "N = parameters['sampling']['n_max']\n",
    "print(N)\n"
   ]
  },
  {
   "cell_type": "code",
   "execution_count": null,
   "metadata": {},
   "outputs": [],
   "source": [
    "#Unpack data file and set variables\n",
    "solution = np.loadtxt(file_name, skiprows = 1, unpack = True)\n",
    "x = solution[0]\n",
    "y = solution[1]\n",
    "V = solution[2:N + 2]\n",
    "ones_array = np.ones(N, float)\n",
    "\n",
    "#Perform an outer product to obtain 2D arrays\n",
    "X = np.outer(x, ones_array)\n",
    "Y = np.outer(ones_array, y)\n",
    "\n",
    "#Set 2D array of zeros to be the the conductor location\n",
    "conductor = np.zeros((N, N), float)"
   ]
  },
  {
   "cell_type": "code",
   "execution_count": null,
   "metadata": {},
   "outputs": [],
   "source": [
    "#2D plot of potential\n",
    "fig, ax = plt.subplots(figsize = (8, 8))\n",
    "plt.imshow(V, extent =[x[0], x[N - 1], y[0], y[N - 1]], cmap = 'plasma')\n",
    "plt.xlabel(r'$L_{x}$', fontsize = 16.0)\n",
    "plt.ylabel(r'$L_{y}$', rotation = 'horizontal', fontsize = 16.0, labelpad = 20)\n",
    "#plt.title('Potential inside Box', fontsize = 20)\n",
    "plt.axis('scaled')\n",
    "plt.colorbar(cmap = 'plasma', fraction=0.046, pad=0.04)\n",
    "plt.show()"
   ]
  },
  {
   "cell_type": "code",
   "execution_count": null,
   "metadata": {},
   "outputs": [],
   "source": [
    "#3D surface plot of potential \n",
    "fig = plt.figure(figsize = (10, 10))\n",
    "ax = fig.add_subplot(projection = '3d')\n",
    "ax.plot_surface(X, Y, conductor, color = '#7f7f7f', alpha = 0.5)\n",
    "ax.plot_surface(X, Y, V, cmap = 'plasma', alpha = 0.8)\n",
    "displayInterval = 1.0 * np.max([L_x, L_y])\n",
    "plt.xlim(0, displayInterval)\n",
    "plt.ylim(0, displayInterval)\n",
    "plt.xlabel(r'$L_{x}$', fontsize = 16)\n",
    "plt.ylabel(r'$L_{y}$', fontsize = 16)\n",
    "ax.view_init(30, 45)\n",
    "plt.show()\n",
    "\n"
   ]
  },
  {
   "cell_type": "code",
   "execution_count": null,
   "metadata": {},
   "outputs": [],
   "source": [
    "# reading data stored in threads_v_time.dat and serial_time.dat\n",
    "\n",
    "file_name = 'threads_v_time.dat'\n",
    "# loadtxt reads all the data in a file and stores them in an array (assuming it's all floats)\n",
    "all_data = np.loadtxt(file_name)\n",
    "# We transpose the array in order to be able to extract each column individually\n",
    "all_data = all_data.transpose()\n",
    "n_threads = all_data[0]\n",
    "parallel_time = all_data[1]\n",
    "\n",
    "\n",
    "file_name = 'serial_time.dat'\n",
    "# loadtxt reads all the data in a file and stores them in an array (assuming it's all floats)\n",
    "all_data = np.loadtxt(file_name)\n",
    "# We transpose the array in order to be able to extract each column individually\n",
    "all_data = all_data.transpose()\n",
    "serial_time = all_data[1]"
   ]
  },
  {
   "cell_type": "code",
   "execution_count": null,
   "metadata": {},
   "outputs": [],
   "source": [
    "from statistics import mean\n",
    "# get mean of the serial time array\n",
    "t_serial = mean(serial_time)\n",
    "\n",
    "# parse parallel time arrays to get the mean to plot \n",
    "\n",
    "max_thread = max(n_threads)\n",
    "slice = int(len(n_threads)/max_thread)\n",
    "\n",
    "time_1_array = parallel_time[0:slice]\n",
    "time_2_array = parallel_time[slice:2*slice]\n",
    "time_3_array = parallel_time[2*slice:3*slice]\n",
    "time_4_array = parallel_time[3*slice:4*slice]\n",
    "\n",
    "# build array with average time for each thread\n",
    "time_array = t_serial/[mean(time_1_array), mean(time_2_array), mean(time_3_array), mean(time_4_array)]"
   ]
  },
  {
   "cell_type": "code",
   "execution_count": null,
   "metadata": {},
   "outputs": [],
   "source": [
    "#fig, ax = plt.subplots()\n",
    "fig = plt.figure(figsize = (6, 6))\n",
    "# Plotting the Series vs Parallel Comparison Averaged over 10 runs for each\n",
    "plt.plot(np.unique(n_threads), time_array, linestyle='--', marker = 's', color = 'm')\n",
    "plt.plot(np.unique(n_threads), np.unique(n_threads), color = 'b')\n",
    "\n",
    "# Plot Settings\n",
    "plt.xlabel('Number of Threads', fontsize = 14, labelpad = 10)\n",
    "plt.xlim(1, max_thread)\n",
    "\n",
    "plt.ylabel(r'$\\frac{T_{Series}}{T_{Parallel}}$', fontsize = 22, rotation = 'horizontal', labelpad = 30)\n",
    "plt.ylim(1, max_thread)\n",
    "plt.grid(True)\n",
    "plt.show()"
   ]
  },
  {
   "cell_type": "code",
   "execution_count": null,
   "metadata": {},
   "outputs": [],
   "source": []
  },
  {
   "cell_type": "code",
   "execution_count": null,
   "metadata": {},
   "outputs": [],
   "source": []
  }
 ],
 "metadata": {
  "kernelspec": {
   "display_name": "Python 3",
   "language": "python",
   "name": "python3"
  },
  "language_info": {
   "codemirror_mode": {
    "name": "ipython",
    "version": 3
   },
   "file_extension": ".py",
   "mimetype": "text/x-python",
   "name": "python",
   "nbconvert_exporter": "python",
   "pygments_lexer": "ipython3",
   "version": "3.7.6"
  }
 },
 "nbformat": 4,
 "nbformat_minor": 4
}
