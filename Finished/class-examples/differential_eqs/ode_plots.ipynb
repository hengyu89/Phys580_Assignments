{
 "cells": [
  {
   "cell_type": "markdown",
   "metadata": {},
   "source": [
    "# Solving Ordinary Differential Equations"
   ]
  },
  {
   "cell_type": "markdown",
   "metadata": {},
   "source": [
    "## Importing packages"
   ]
  },
  {
   "cell_type": "code",
   "execution_count": null,
   "metadata": {},
   "outputs": [],
   "source": [
    "import numpy as np\n",
    "import matplotlib.pyplot as plt"
   ]
  },
  {
   "cell_type": "markdown",
   "metadata": {},
   "source": [
    "## Euler Method\n",
    "\n",
    "### Reading data and plotting the solution"
   ]
  },
  {
   "cell_type": "code",
   "execution_count": null,
   "metadata": {},
   "outputs": [],
   "source": [
    "solution = np.loadtxt('euler_sol.dat', unpack=True)\n",
    "rk_sol_10 = np.loadtxt('rk_sol_10.dat', unpack=True)\n",
    "rk_sol_25 = np.loadtxt('rk_sol_25.dat', unpack=True)\n",
    "rk_sol_50 = np.loadtxt('rk_sol_50.dat', unpack=True)\n",
    "rk_sol_100 = np.loadtxt('rk_sol_100.dat', unpack=True)\n",
    "\n",
    "plt.plot(solution[0],solution[1])\n",
    "plt.plot(rk_sol_10[0], rk_sol_10[1])\n",
    "plt.plot(rk_sol_25[0], rk_sol_25[1])\n",
    "plt.plot(rk_sol_50[0], rk_sol_50[1])\n",
    "plt.plot(rk_sol_100[0], rk_sol_100[1])\n",
    "plt.xlabel('t')\n",
    "plt.ylabel('x')\n",
    "plt.show()"
   ]
  },
  {
   "cell_type": "markdown",
   "metadata": {},
   "source": [
    "# Runge Kutta Method"
   ]
  },
  {
   "cell_type": "code",
   "execution_count": null,
   "metadata": {},
   "outputs": [],
   "source": [
    "lv_solution = np.loadtxt('lv_solution.dat', unpack=True)\n",
    "plt.plot(lv_solution[0], lv_solution[1], label='rabbits')\n",
    "plt.plot(lv_solution[0], lv_solution[2], label='foxes')\n",
    "plt.xlabel('time (years)')\n",
    "plt.ylabel('population (thousands)')\n",
    "plt.legend()\n",
    "plt.show()"
   ]
  },
  {
   "cell_type": "code",
   "execution_count": null,
   "metadata": {},
   "outputs": [],
   "source": []
  }
 ],
 "metadata": {
  "kernelspec": {
   "display_name": "Python 3",
   "language": "python",
   "name": "python3"
  },
  "language_info": {
   "codemirror_mode": {
    "name": "ipython",
    "version": 3
   },
   "file_extension": ".py",
   "mimetype": "text/x-python",
   "name": "python",
   "nbconvert_exporter": "python",
   "pygments_lexer": "ipython3",
   "version": "3.7.6"
  }
 },
 "nbformat": 4,
 "nbformat_minor": 2
}
