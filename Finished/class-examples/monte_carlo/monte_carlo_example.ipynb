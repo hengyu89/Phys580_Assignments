{
 "cells": [
  {
   "cell_type": "markdown",
   "metadata": {},
   "source": [
    "# Monte Carlo Integration example"
   ]
  },
  {
   "cell_type": "code",
   "execution_count": null,
   "metadata": {},
   "outputs": [],
   "source": [
    "import numpy as np\n",
    "import matplotlib.pyplot as plt"
   ]
  },
  {
   "cell_type": "markdown",
   "metadata": {},
   "source": [
    "We want to integrate \n",
    "# $\\frac{x^{-1/2}}{e^x+1}$\n",
    "using Monte Carlo integration.\n",
    "\n",
    "Mathematica says that the answers is `0.838932960...`\n",
    "\n",
    "Let's see what number we can get"
   ]
  },
  {
   "cell_type": "code",
   "execution_count": null,
   "metadata": {},
   "outputs": [],
   "source": [
    "def integrand(x):\n",
    "    f = 1/(np.sqrt(x)*(np.exp(x)+1))\n",
    "    return f"
   ]
  },
  {
   "cell_type": "markdown",
   "metadata": {},
   "source": [
    "## plotting the fucntion"
   ]
  },
  {
   "cell_type": "code",
   "execution_count": null,
   "metadata": {},
   "outputs": [],
   "source": [
    "x_plot = np.linspace(0.001, 1.0, num=1000)\n",
    "f_plot = integrand(x_plot)\n",
    "plt.plot(x_plot,f_plot)\n",
    "plt.show()"
   ]
  },
  {
   "cell_type": "markdown",
   "metadata": {},
   "source": [
    "### Drawing uniform random numbers"
   ]
  },
  {
   "cell_type": "code",
   "execution_count": null,
   "metadata": {},
   "outputs": [],
   "source": [
    "n_samples = 100000\n",
    "x_uniform_sample = np.random.random_sample(n_samples)\n",
    "print(x_uniform_sample)"
   ]
  },
  {
   "cell_type": "code",
   "execution_count": null,
   "metadata": {},
   "outputs": [],
   "source": [
    "plt.hist(x_uniform_sample,density=True)\n",
    "plt.show()"
   ]
  },
  {
   "cell_type": "markdown",
   "metadata": {},
   "source": [
    "### Changing the number of bins"
   ]
  },
  {
   "cell_type": "code",
   "execution_count": null,
   "metadata": {},
   "outputs": [],
   "source": [
    "plt.hist(x_uniform_sample, bins=5, density=True)\n",
    "plt.show()"
   ]
  },
  {
   "cell_type": "markdown",
   "metadata": {},
   "source": [
    "## Defining functions to do Monte Carlo Integration"
   ]
  },
  {
   "cell_type": "code",
   "execution_count": null,
   "metadata": {},
   "outputs": [],
   "source": [
    "def average(x):\n",
    "    sumation = np.sum(x)\n",
    "    s = sumation/np.size(x)\n",
    "    return s"
   ]
  },
  {
   "cell_type": "code",
   "execution_count": null,
   "metadata": {},
   "outputs": [],
   "source": [
    "def mc_integration(func, n_samples):\n",
    "    # Usual MC integration: Draw samples, evaluate, take the average\n",
    "    x = np.random.random_sample(n_samples)\n",
    "    evaluations = func(x)\n",
    "    mc_integral = average(evaluations)\n",
    "    \n",
    "    # Error = sqrt(variance/n_samples)\n",
    "    # var f = <f^2> - <f>^2 \n",
    "    evaluations_squared = evaluations**2\n",
    "    variance = average(evaluations_squared) - average(evaluations)**2\n",
    "    error = np.sqrt(variance/n_samples)\n",
    "    \n",
    "    # Printing results\n",
    "    print('Monte Carlo estimate:  ', mc_integral)\n",
    "    print('Monte Carlo error:    ±', error)"
   ]
  },
  {
   "cell_type": "markdown",
   "metadata": {},
   "source": [
    "Mathematica says that the answers is `0.838932960...`\n",
    "\n",
    "Let's see what number we get"
   ]
  },
  {
   "cell_type": "code",
   "execution_count": null,
   "metadata": {},
   "outputs": [],
   "source": [
    "mc_integration(integrand,100000)"
   ]
  },
  {
   "cell_type": "markdown",
   "metadata": {},
   "source": [
    "## Using importance sampling\n",
    "\n",
    "We saw in class that if we set $w(x) = x^{-1/2}$, then we can get the non-uniform random numbers wit $\\xi_i = x_i^2$ and approximate the integral with\n",
    "# $I \\approx \\frac{1}{N} \\sum \\frac{f(\\xi_i)}{w(\\xi_i)} \\int_0^1 w(x') dx' = \\frac{2}{N} \\sum \\frac{f(\\xi_i)}{w(\\xi_i)}$"
   ]
  },
  {
   "cell_type": "markdown",
   "metadata": {},
   "source": [
    "## Random numbers with different distribution"
   ]
  },
  {
   "cell_type": "code",
   "execution_count": null,
   "metadata": {},
   "outputs": [],
   "source": [
    "x_uniform_sample = np.random.random_sample(10000)\n",
    "x_new_dist = x_uniform_sample**2\n",
    "plt.hist(x_new_dist, density=True)\n",
    "plt.show()"
   ]
  },
  {
   "cell_type": "code",
   "execution_count": null,
   "metadata": {},
   "outputs": [],
   "source": [
    "def weighted_integrand(x):\n",
    "    g = 1/(np.exp(x)+1)\n",
    "    return g"
   ]
  },
  {
   "cell_type": "code",
   "execution_count": null,
   "metadata": {},
   "outputs": [],
   "source": [
    "def mc_integration_2(func,n_samples):\n",
    "    # Importance sampling MC integration:\n",
    "    # Draw samples, change distribtuion, evaluate, take the average, multiply by normalization constant\n",
    "    x = np.random.random_sample(n_samples)\n",
    "    xi = x**2\n",
    "    evaluations = func(xi)\n",
    "    normalization_constant = 2.\n",
    "    mc_integral = normalization_constant*average(evaluations)\n",
    "    \n",
    "    # Error = sqrt(variance/n_samples)*normalization_constant\n",
    "    # var f = <f^2> - <f>^2 \n",
    "    evaluations_squared = evaluations**2\n",
    "    variance = average(evaluations_squared) - average(evaluations)**2\n",
    "    error = np.sqrt(variance/n_samples)*normalization_constant\n",
    "    \n",
    "    # Printing results\n",
    "    print('Monte Carlo estimate 2:', mc_integral)\n",
    "    print('Monte Carlo error 2:  ±', error)"
   ]
  },
  {
   "cell_type": "markdown",
   "metadata": {},
   "source": [
    "Mathematica says that the answers is `0.838932960...`\n",
    "\n",
    "Let's see what number we get"
   ]
  },
  {
   "cell_type": "code",
   "execution_count": null,
   "metadata": {},
   "outputs": [],
   "source": [
    "n_samples = 1000000\n",
    "mc_integration(integrand,n_samples)\n",
    "mc_integration_2(weighted_integrand,n_samples)"
   ]
  }
 ],
 "metadata": {
  "kernelspec": {
   "display_name": "Python 3",
   "language": "python",
   "name": "python3"
  },
  "language_info": {
   "codemirror_mode": {
    "name": "ipython",
    "version": 3
   },
   "file_extension": ".py",
   "mimetype": "text/x-python",
   "name": "python",
   "nbconvert_exporter": "python",
   "pygments_lexer": "ipython3",
   "version": "3.7.6"
  }
 },
 "nbformat": 4,
 "nbformat_minor": 2
}
