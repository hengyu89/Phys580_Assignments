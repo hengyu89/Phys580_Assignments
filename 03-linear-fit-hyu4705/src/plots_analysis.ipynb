{
 "cells": [
  {
   "cell_type": "markdown",
   "metadata": {},
   "source": [
    "# Analyzing results"
   ]
  },
  {
   "cell_type": "markdown",
   "metadata": {},
   "source": [
    "We will use python and this jupyter notebook to plot and analyze the results obtained from the\n",
    "fortran source code."
   ]
  },
  {
   "cell_type": "markdown",
   "metadata": {},
   "source": [
    "## Plotting results\n",
    "\n",
    "For this we will use the `numpy` and `matplotlib.pyplot` packages"
   ]
  },
  {
   "cell_type": "code",
   "execution_count": null,
   "metadata": {},
   "outputs": [],
   "source": [
    "# Importing numpy and matplotlib\n",
    "import numpy as np \n",
    "import matplotlib.pyplot as plt"
   ]
  },
  {
   "cell_type": "code",
   "execution_count": null,
   "metadata": {},
   "outputs": [],
   "source": [
    "# different styles are predefined that give different appearance to the plots. This one emulates the style of \n",
    "# the figures you'll find on statisical analysis news site fivethirtyeight.com\n",
    "plt.style.use('fivethirtyeight')"
   ]
  },
  {
   "cell_type": "code",
   "execution_count": null,
   "metadata": {},
   "outputs": [],
   "source": [
    "# reading data stored in results.dat\n",
    "\n",
    "file_name = 'results.dat'\n",
    "\n",
    "# loadtxt reads all the data in a file and stores them in an array (assuming it's all floats)\n",
    "# we use skiprows=1 to avoid the header\n",
    "all_data = np.loadtxt(file_name,skiprows=1)\n",
    "\n",
    "# We transpose the array in order to be able to extract each column individually\n",
    "all_data = all_data.transpose()\n",
    "\n",
    "# You should know what to do\n",
    "# number_of_protons = ...\n",
    "# number_of_neutrons = ...\n",
    "# experimental_values = ...\n",
    "# experimental_uncertainties = ...\n",
    "# theoretical_values = ...\n",
    "# theoretical_uncertainties = ...\n"
   ]
  },
  {
   "cell_type": "markdown",
   "metadata": {},
   "source": [
    "### Comparing Experimental and Theoretical values"
   ]
  },
  {
   "cell_type": "markdown",
   "metadata": {},
   "source": [
    "#### As a function of the number of protons"
   ]
  },
  {
   "cell_type": "code",
   "execution_count": null,
   "metadata": {},
   "outputs": [],
   "source": [
    "# The plot function can take two equally sized arrays,\n",
    "# taking the first one as the x coordinates and the second one as the y coordinates\n",
    "\n",
    "# In pyplot, using the argument '.' will draw points as a marker instead of lines.\n",
    "# Other markers are available (circles 'o', triangles '^', diamonds 'd', starts '*', .... )\n",
    "# See the notes section in the documentation for more details\n",
    "# https://matplotlib.org/3.1.1/api/_as_gen/matplotlib.pyplot.plot.html\n",
    "plt.plot(number_of_protons, experimental_values-theoretical_values, '.')\n",
    "\n",
    "# Set appropriate labels with the correct units.\n",
    "# plt.xlabel(...)\n",
    "# plt.ylabel(...)\n",
    "# legend displays the labels given in each plot\n",
    "plt.legend()\n",
    "plt.show()\n",
    "plt.show()"
   ]
  },
  {
   "cell_type": "markdown",
   "metadata": {},
   "source": [
    "#### As a function of the number of neutrons"
   ]
  },
  {
   "cell_type": "code",
   "execution_count": null,
   "metadata": {},
   "outputs": [],
   "source": [
    "# You know what to do\n",
    "\n",
    "# plt.plot(...)\n",
    "# plt.xlabel(...)\n",
    "# ...\n",
    "# ..."
   ]
  },
  {
   "cell_type": "markdown",
   "metadata": {},
   "source": [
    "What type of structure do you see in the difference between experimental and theoretical values?\n",
    "\n",
    "Describe it and explain the reasons behind it in the cell below"
   ]
  },
  {
   "cell_type": "markdown",
   "metadata": {},
   "source": [
    "**Your discussion goes here**"
   ]
  },
  {
   "cell_type": "markdown",
   "metadata": {},
   "source": [
    "### Comparing theoretical and experimental uncertainties"
   ]
  },
  {
   "cell_type": "code",
   "execution_count": null,
   "metadata": {},
   "outputs": [],
   "source": [
    "# Make a plot of the experimental errors in this cell\n",
    "# Also use points instead of lines"
   ]
  },
  {
   "cell_type": "code",
   "execution_count": null,
   "metadata": {},
   "outputs": [],
   "source": [
    "# Make a plot of the theoretical errors in this cell\n",
    "# Also use points instead of lines"
   ]
  },
  {
   "cell_type": "markdown",
   "metadata": {},
   "source": [
    "Discuss in the cell below if the experimental and theoretical errors are similar or not (do they have the same order of magnitude). Also discuss why"
   ]
  },
  {
   "cell_type": "markdown",
   "metadata": {},
   "source": [
    "**Your discussion goes here**"
   ]
  },
  {
   "cell_type": "markdown",
   "metadata": {},
   "source": [
    "## Advanced part of the project"
   ]
  },
  {
   "cell_type": "markdown",
   "metadata": {},
   "source": [
    "### Reading the data from results file"
   ]
  },
  {
   "cell_type": "code",
   "execution_count": null,
   "metadata": {},
   "outputs": [],
   "source": [
    "# reading data stored in results_advanced.dat\n",
    "\n",
    "# You should know how to do this by now"
   ]
  },
  {
   "cell_type": "markdown",
   "metadata": {},
   "source": [
    "### Drawing the positions of the stable isotopes and neutron dripline"
   ]
  },
  {
   "cell_type": "code",
   "execution_count": null,
   "metadata": {},
   "outputs": [],
   "source": [
    "# Your plots here should be two lines. (not points like in the previous ones)\n",
    "\n",
    "# The x-axis should indicate the number of neutrons\n",
    "# The y-axis should indicate the number of protons\n"
   ]
  },
  {
   "cell_type": "markdown",
   "metadata": {},
   "source": [
    "## Defining a function to calculate the reduced $\\chi^2$"
   ]
  },
  {
   "cell_type": "code",
   "execution_count": null,
   "metadata": {},
   "outputs": [],
   "source": [
    "# Python allows you to define functions!\n",
    "\n",
    "def reduced_chi_square(experiment, sigma, theory, n_parameters):\n",
    "    # The function takes numpy arrays containing the experimental and theoretical values\n",
    "    chi_square = ((experiment - theory)/sigma)**2\n",
    "    # chi_square is anohter numpy array that contains the results of the element-wise operations\n",
    "    n_data = len(experiment)\n",
    "    # The len() function gives you the length of an array\n",
    "    \n",
    "    # we can use the numpy function sum to add all the elements in chi_square\n",
    "    chi_square = np.sum(chi_square)/(n_data - n_parameters)\n",
    "    return chi_square\n",
    "\n",
    "# Python uses indentation to indicate the start and\n",
    "# end of block constructs (definitions, for loops, if statements, etc)"
   ]
  },
  {
   "cell_type": "code",
   "execution_count": null,
   "metadata": {},
   "outputs": [],
   "source": [
    "# Now we can use our new function to calculate the reduced chi square\n",
    "\n",
    "\n",
    "# chi2 = reduced_chi_square(...)\n",
    "\n",
    "\n",
    "print('The reduced chi sqaure for the liquid drop model is :',chi2)"
   ]
  }
 ],
 "metadata": {
  "kernelspec": {
   "display_name": "Python 3",
   "language": "python",
   "name": "python3"
  },
  "language_info": {
   "codemirror_mode": {
    "name": "ipython",
    "version": 3
   },
   "file_extension": ".py",
   "mimetype": "text/x-python",
   "name": "python",
   "nbconvert_exporter": "python",
   "pygments_lexer": "ipython3",
   "version": "3.7.3"
  }
 },
 "nbformat": 4,
 "nbformat_minor": 2
}
