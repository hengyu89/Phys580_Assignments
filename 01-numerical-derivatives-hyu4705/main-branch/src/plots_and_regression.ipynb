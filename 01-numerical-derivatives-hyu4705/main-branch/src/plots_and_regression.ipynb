{
 "cells": [
  {
   "cell_type": "code",
   "execution_count": null,
   "metadata": {},
   "outputs": [],
   "source": [
    "# Importing numpy and matplotlib\n",
    "import numpy as np \n",
    "import matplotlib.pyplot as plt\n",
    "# different styles are predefined that give different appearance to the plots.\n",
    "# This one emulates the style of the figures you'll find on statisical \n",
    "# analysis news site fivethirtyeight.com\n",
    "plt.style.use('fivethirtyeight')"
   ]
  },
  {
   "cell_type": "code",
   "execution_count": null,
   "metadata": {},
   "outputs": [],
   "source": [
    "# reading data stored in results.dat\n",
    "\n",
    "file_name = 'results.dat'\n",
    "\n",
    "# np.loadtxt reads all the data in a file and stores them in an array (assuming it's all floats)\n",
    "# we use skiprows=1 to avoid the header\n",
    "# unpack=True transposes the array in order to be able to extract each column individually \n",
    "all_data = np.loadtxt(file_name, skiprows=1, unpack=True)\n",
    "\n",
    "h_step = all_data[0]\n",
    "analytic = all_data[1]\n",
    "three_point = all_data[2]\n",
    "# five_point = all_data[3]\n",
    "# Each one of these is a numpy array that contains one of the columns in the results.dat file.\n",
    "# This will allows us to make operations on the extracted data"
   ]
  },
  {
   "cell_type": "code",
   "execution_count": null,
   "metadata": {},
   "outputs": [],
   "source": [
    "# The plot function can take two equally sized arrays,\n",
    "# taking the first one as the x coordinates and the second one as the y coordinates\n",
    "plt.plot(h_step, three_point, label='3 Points Numerical')\n",
    "# plt.plot(h_step, five_point, label='5 Points Numerical')\n",
    "plt.plot(h_step, analytic, label='Analytic')\n",
    "plt.xlabel('step size h')\n",
    "# Strings can take LaTeX syntaxis and interpret it correctly by putting an 'r' right before it\n",
    "plt.ylabel(r'$f´´(x_0)$')\n",
    "# legend displays the labels given in each plot\n",
    "plt.legend()\n",
    "plt.show()"
   ]
  },
  {
   "cell_type": "code",
   "execution_count": null,
   "metadata": {},
   "outputs": [],
   "source": [
    "# Operations between arrays of the same size are applied element-wise\n",
    "three_point_error = np.absolute(analytic - three_point)\n",
    "# five_point_error = np.absolute(analytic - five_point)"
   ]
  },
  {
   "cell_type": "code",
   "execution_count": null,
   "metadata": {},
   "outputs": [],
   "source": [
    "plt.plot(h_step, three_point_error, label='3 Points')\n",
    "# plt.plot(h_step, five_point_error, label='5 Points')\n",
    "plt.xlabel('step size h')\n",
    "plt.ylabel(r'$f´´_{\\rm exact}(x_0) - f´´_{\\rm num}(x_0)$')\n",
    "plt.legend()\n",
    "plt.show()"
   ]
  },
  {
   "cell_type": "code",
   "execution_count": null,
   "metadata": {},
   "outputs": [],
   "source": [
    "# For plotting we don't need to apply the log function ourselves; loglog takes care of that.\n",
    "plt.loglog(h_step, three_point_error, label='3 Points')\n",
    "#plt.loglog(h_step, five_point_error, label='5 Points')\n",
    "plt.xlabel('step size h')\n",
    "plt.ylabel(r'$f´´_{\\rm exact}(x_0) - f´´_{\\rm num}(x_0)$')\n",
    "plt.legend()\n",
    "plt.show()"
   ]
  },
  {
   "cell_type": "code",
   "execution_count": null,
   "metadata": {},
   "outputs": [],
   "source": [
    "# Importing only the stats package\n",
    "from scipy import stats"
   ]
  },
  {
   "cell_type": "code",
   "execution_count": null,
   "metadata": {},
   "outputs": [],
   "source": [
    "# Importing only the stats package\n",
    "from scipy import stats\n",
    "# First we need to apply the log function to our data\n",
    "log_h_step = np.log(h_step)\n",
    "log_three_point_error = np.log(three_point_error)\n",
    "#log_five_point_error = np.log(five_point_error)\n",
    "\n",
    "# I'll leave the rest of the implementation for you to do based on the documentation of stats.linregress \n",
    "# The example on the documentation should make it pretty clear how to extract the slope"
   ]
  }
 ],
 "metadata": {
  "language_info": {
   "name": "python"
  },
  "orig_nbformat": 4
 },
 "nbformat": 4,
 "nbformat_minor": 2
}
